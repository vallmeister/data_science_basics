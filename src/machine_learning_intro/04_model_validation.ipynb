{
 "cells": [
  {
   "cell_type": "markdown",
   "id": "d4e8d624-8c9e-4c54-bcaa-acf36df0ee65",
   "metadata": {},
   "source": [
    "# 4. Model Validation"
   ]
  },
  {
   "cell_type": "code",
   "execution_count": 2,
   "id": "cf8b31b3-2ced-4f9b-bec7-c2eca9032ba5",
   "metadata": {
    "tags": []
   },
   "outputs": [],
   "source": [
    "import pandas as pd\n",
    "melbourne_data = pd.read_csv('./resources/melb_data.csv')\n",
    "filtered_melbourne_data = melbourne_data.dropna(axis=0)\n",
    "y = filtered_melbourne_data.Price\n",
    "melbourne_features = ['Rooms', 'Bathroom', 'Landsize', 'BuildingArea', 'YearBuilt', 'Lattitude', 'Longtitude']\n",
    "X = filtered_melbourne_data[melbourne_features]"
   ]
  },
  {
   "cell_type": "code",
   "execution_count": 3,
   "id": "cc0157da-81cd-4965-ba82-b153b4c37a9a",
   "metadata": {
    "tags": []
   },
   "outputs": [
    {
     "data": {
      "text/html": [
       "<style>#sk-container-id-1 {color: black;}#sk-container-id-1 pre{padding: 0;}#sk-container-id-1 div.sk-toggleable {background-color: white;}#sk-container-id-1 label.sk-toggleable__label {cursor: pointer;display: block;width: 100%;margin-bottom: 0;padding: 0.3em;box-sizing: border-box;text-align: center;}#sk-container-id-1 label.sk-toggleable__label-arrow:before {content: \"▸\";float: left;margin-right: 0.25em;color: #696969;}#sk-container-id-1 label.sk-toggleable__label-arrow:hover:before {color: black;}#sk-container-id-1 div.sk-estimator:hover label.sk-toggleable__label-arrow:before {color: black;}#sk-container-id-1 div.sk-toggleable__content {max-height: 0;max-width: 0;overflow: hidden;text-align: left;background-color: #f0f8ff;}#sk-container-id-1 div.sk-toggleable__content pre {margin: 0.2em;color: black;border-radius: 0.25em;background-color: #f0f8ff;}#sk-container-id-1 input.sk-toggleable__control:checked~div.sk-toggleable__content {max-height: 200px;max-width: 100%;overflow: auto;}#sk-container-id-1 input.sk-toggleable__control:checked~label.sk-toggleable__label-arrow:before {content: \"▾\";}#sk-container-id-1 div.sk-estimator input.sk-toggleable__control:checked~label.sk-toggleable__label {background-color: #d4ebff;}#sk-container-id-1 div.sk-label input.sk-toggleable__control:checked~label.sk-toggleable__label {background-color: #d4ebff;}#sk-container-id-1 input.sk-hidden--visually {border: 0;clip: rect(1px 1px 1px 1px);clip: rect(1px, 1px, 1px, 1px);height: 1px;margin: -1px;overflow: hidden;padding: 0;position: absolute;width: 1px;}#sk-container-id-1 div.sk-estimator {font-family: monospace;background-color: #f0f8ff;border: 1px dotted black;border-radius: 0.25em;box-sizing: border-box;margin-bottom: 0.5em;}#sk-container-id-1 div.sk-estimator:hover {background-color: #d4ebff;}#sk-container-id-1 div.sk-parallel-item::after {content: \"\";width: 100%;border-bottom: 1px solid gray;flex-grow: 1;}#sk-container-id-1 div.sk-label:hover label.sk-toggleable__label {background-color: #d4ebff;}#sk-container-id-1 div.sk-serial::before {content: \"\";position: absolute;border-left: 1px solid gray;box-sizing: border-box;top: 0;bottom: 0;left: 50%;z-index: 0;}#sk-container-id-1 div.sk-serial {display: flex;flex-direction: column;align-items: center;background-color: white;padding-right: 0.2em;padding-left: 0.2em;position: relative;}#sk-container-id-1 div.sk-item {position: relative;z-index: 1;}#sk-container-id-1 div.sk-parallel {display: flex;align-items: stretch;justify-content: center;background-color: white;position: relative;}#sk-container-id-1 div.sk-item::before, #sk-container-id-1 div.sk-parallel-item::before {content: \"\";position: absolute;border-left: 1px solid gray;box-sizing: border-box;top: 0;bottom: 0;left: 50%;z-index: -1;}#sk-container-id-1 div.sk-parallel-item {display: flex;flex-direction: column;z-index: 1;position: relative;background-color: white;}#sk-container-id-1 div.sk-parallel-item:first-child::after {align-self: flex-end;width: 50%;}#sk-container-id-1 div.sk-parallel-item:last-child::after {align-self: flex-start;width: 50%;}#sk-container-id-1 div.sk-parallel-item:only-child::after {width: 0;}#sk-container-id-1 div.sk-dashed-wrapped {border: 1px dashed gray;margin: 0 0.4em 0.5em 0.4em;box-sizing: border-box;padding-bottom: 0.4em;background-color: white;}#sk-container-id-1 div.sk-label label {font-family: monospace;font-weight: bold;display: inline-block;line-height: 1.2em;}#sk-container-id-1 div.sk-label-container {text-align: center;}#sk-container-id-1 div.sk-container {/* jupyter's `normalize.less` sets `[hidden] { display: none; }` but bootstrap.min.css set `[hidden] { display: none !important; }` so we also need the `!important` here to be able to override the default hidden behavior on the sphinx rendered scikit-learn.org. See: https://github.com/scikit-learn/scikit-learn/issues/21755 */display: inline-block !important;position: relative;}#sk-container-id-1 div.sk-text-repr-fallback {display: none;}</style><div id=\"sk-container-id-1\" class=\"sk-top-container\"><div class=\"sk-text-repr-fallback\"><pre>DecisionTreeRegressor()</pre><b>In a Jupyter environment, please rerun this cell to show the HTML representation or trust the notebook. <br />On GitHub, the HTML representation is unable to render, please try loading this page with nbviewer.org.</b></div><div class=\"sk-container\" hidden><div class=\"sk-item\"><div class=\"sk-estimator sk-toggleable\"><input class=\"sk-toggleable__control sk-hidden--visually\" id=\"sk-estimator-id-1\" type=\"checkbox\" checked><label for=\"sk-estimator-id-1\" class=\"sk-toggleable__label sk-toggleable__label-arrow\">DecisionTreeRegressor</label><div class=\"sk-toggleable__content\"><pre>DecisionTreeRegressor()</pre></div></div></div></div></div>"
      ],
      "text/plain": [
       "DecisionTreeRegressor()"
      ]
     },
     "execution_count": 3,
     "metadata": {},
     "output_type": "execute_result"
    }
   ],
   "source": [
    "from sklearn.tree import DecisionTreeRegressor\n",
    "melbourne_model = DecisionTreeRegressor()\n",
    "melbourne_model.fit(X, y)"
   ]
  },
  {
   "cell_type": "markdown",
   "id": "fa0410d4-a286-481b-ad6b-ccda64ff4ade",
   "metadata": {},
   "source": [
    "- We use <mark>MAE</mark> (mean absolute value) to evaluate the model"
   ]
  },
  {
   "cell_type": "code",
   "execution_count": 5,
   "id": "8197e2b2-b3b4-423b-9aee-77752dec4ca8",
   "metadata": {
    "tags": []
   },
   "outputs": [
    {
     "data": {
      "text/plain": [
       "434.71594577146544"
      ]
     },
     "execution_count": 5,
     "metadata": {},
     "output_type": "execute_result"
    }
   ],
   "source": [
    "from sklearn.metrics import mean_absolute_error\n",
    "\n",
    "predicted_home_prices = melbourne_model.predict(X)\n",
    "mean_absolute_error(y, predicted_home_prices)"
   ]
  },
  {
   "cell_type": "markdown",
   "id": "306125db-1943-455f-b48a-811f11256dc3",
   "metadata": {},
   "source": [
    "## Problem with \"In-Sample\" Scores\n",
    "- Don't evaluate the model on the data it is trained on\n",
    "- It may learn wrong patterns that fit the training data well but don't generalize to other datasets\n",
    "- Therefore, we use a <mark>validation set</mark>"
   ]
  },
  {
   "cell_type": "code",
   "execution_count": 7,
   "id": "df858c24-e423-4efd-8689-abcd367fd0c9",
   "metadata": {
    "tags": []
   },
   "outputs": [
    {
     "data": {
      "text/plain": [
       "264900.84893479664"
      ]
     },
     "execution_count": 7,
     "metadata": {},
     "output_type": "execute_result"
    }
   ],
   "source": [
    "from sklearn.model_selection import train_test_split\n",
    "\n",
    "train_X, val_X, train_y, val_y = train_test_split(X, y, random_state=0)\n",
    "melbourne_model = DecisionTreeRegressor()\n",
    "melbourne_model.fit(train_X, train_y)\n",
    "val_predictions = melbourne_model.predict(val_X)\n",
    "mean_absolute_error(val_y, val_predictions)"
   ]
  },
  {
   "cell_type": "markdown",
   "id": "bdb38e5f-55e2-4710-814e-dd335b52bfe1",
   "metadata": {},
   "source": [
    "## Exercises"
   ]
  },
  {
   "cell_type": "code",
   "execution_count": 10,
   "id": "74f6d516-1e7a-4306-8762-e53d78770e4e",
   "metadata": {
    "tags": []
   },
   "outputs": [
    {
     "name": "stdout",
     "output_type": "stream",
     "text": [
      "First in-sample predictions: [208500. 181500. 223500. 140000. 250000.]\n",
      "Actual target values for those homes: [208500, 181500, 223500, 140000, 250000]\n"
     ]
    }
   ],
   "source": [
    "home_data = pd.read_csv('./resources/home-data-for-ml-course/train.csv')\n",
    "y = home_data.SalePrice\n",
    "feature_columns = ['LotArea', 'YearBuilt', '1stFlrSF', '2ndFlrSF', 'FullBath', 'BedroomAbvGr', 'TotRmsAbvGrd']\n",
    "X = home_data[feature_columns]\n",
    "iowa_model = DecisionTreeRegressor()\n",
    "iowa_model.fit(X, y)\n",
    "\n",
    "print(\"First in-sample predictions:\", iowa_model.predict(X.head()))\n",
    "print(\"Actual target values for those homes:\", y.head().tolist())"
   ]
  },
  {
   "cell_type": "markdown",
   "id": "2f7aa356-0c13-4114-9d5e-4d2cc808cb1c",
   "metadata": {},
   "source": [
    "### 1."
   ]
  },
  {
   "cell_type": "code",
   "execution_count": 12,
   "id": "5250e45e-6eab-4d9b-b3f6-89dc30512f68",
   "metadata": {
    "tags": []
   },
   "outputs": [],
   "source": [
    "train_X, val_X, train_y, val_y = train_test_split(X, y, random_state=1)"
   ]
  },
  {
   "cell_type": "markdown",
   "id": "9a5443f7-fdfc-4ee1-8e5a-f0ccfe9c0cb1",
   "metadata": {},
   "source": [
    "### 2."
   ]
  },
  {
   "cell_type": "code",
   "execution_count": null,
   "id": "89d32315-2e1a-4825-9edb-09f14e9b4cbb",
   "metadata": {},
   "outputs": [],
   "source": [
    "iowa_model = DecisionTreeRegressor(random_state=1)\n",
    "iowa_model.fit(train_X, train_y)"
   ]
  },
  {
   "cell_type": "markdown",
   "id": "1510f705-c48c-4b41-8d66-39a552a5a917",
   "metadata": {},
   "source": [
    "### 3."
   ]
  },
  {
   "cell_type": "code",
   "execution_count": 14,
   "id": "61c33d72-2a09-49b0-9a98-b2c4914d2f8a",
   "metadata": {
    "tags": []
   },
   "outputs": [
    {
     "name": "stdout",
     "output_type": "stream",
     "text": [
      "[231500. 179500. 122000.  84500. 142000. 325624. 285000. 147576. 195000.\n",
      " 275000. 175000.  61000. 174000. 385000. 230000.  87000. 125000.  98600.\n",
      " 260000. 143000. 124000. 122500. 236500. 337500.  76000. 187000. 128000.\n",
      " 179000. 485000. 122500. 106000. 118000. 127000.  80000. 153000. 360000.\n",
      " 132000.  85500. 262280. 112000. 131000. 139000.  87000. 135000. 181000.\n",
      " 163500. 116900. 159895. 244600. 294000.  97000. 295000. 120500. 239500.\n",
      " 194000. 115000. 119500. 180000. 118000. 178000. 167000. 267000.  82000.\n",
      " 133900. 167000. 132500. 135000. 248000. 160000. 144500. 200500. 113000.\n",
      " 354000. 164000. 170000. 224000. 163900. 160000. 466500. 172500. 193500.\n",
      " 133000. 137000. 167500. 196500. 146000. 159500. 158000. 189000. 172500.\n",
      " 194201. 181000. 115000. 101800. 100000. 139000. 115000. 139000. 156000.\n",
      " 158000. 172000. 138000. 125500. 123000. 134500. 163000. 169990. 140000.\n",
      " 140000. 325000. 157500. 225000. 107000. 185500. 239900. 163990. 201000.\n",
      " 127000. 172500. 228000. 117000. 232600. 403000. 169500. 151400. 180000.\n",
      " 370878.  55993. 207500. 224500. 280000.  82000. 137000. 130500.  73000.\n",
      " 217000. 625000. 367294. 230000. 142000. 115000. 272000. 176500. 234000.\n",
      "  40000. 213500. 126000. 187100. 200000. 117500. 176000. 174000.  97000.\n",
      " 169000. 154000. 361919.  85000. 134000.  96500. 127000.  60000. 108480.\n",
      " 151000. 135000.  99500. 124000. 177500. 144000. 119000. 107500. 254900.\n",
      " 180500. 222000. 271000. 181000. 140000. 158000. 204750. 135000. 161500.\n",
      " 128500. 179540. 143000. 147000. 280000. 131500. 253293. 317000. 210000.\n",
      " 120000. 110000. 127000. 106000. 172500. 166000. 258000. 213000. 150000.\n",
      " 158500.  82500. 212000. 238000. 158000. 178000. 328900. 110000. 185000.\n",
      " 320000. 315000. 228950. 180000. 117000. 176000. 111250. 297000. 266000.\n",
      " 130000.  93200. 186700.  91000. 745000.  62383. 172500. 170000. 119000.\n",
      " 129900. 210000. 173000. 164500. 170000. 125500. 183000. 103000. 141500.\n",
      " 315500. 118911. 290000. 119000. 104900. 348000. 374000. 200100. 132250.\n",
      " 161500. 131500. 104000. 132500. 133000. 170000. 180000. 130000. 125000.\n",
      " 186500. 171500. 100000. 114500. 173000.  86000. 320000. 133000. 220000.\n",
      " 137900. 224900. 153500. 115000. 207500. 113000. 178400. 140000.  83000.\n",
      " 197000. 187500.  81000.  93500. 197500.  93000. 106000. 144000. 220000.\n",
      " 144900. 139000. 132000. 149000. 153500. 263435. 205000. 132500. 103200.\n",
      " 249700.  64500.  83000. 339750. 145900. 106250. 164990. 228500. 193000.\n",
      " 244000. 159950. 119000. 160000. 147000. 134450. 174000. 144000. 190000.\n",
      " 160000. 175000. 135000. 176000. 168500. 139000. 102776. 221500. 148500.\n",
      "  55000. 281000. 179900. 182900. 217500. 195000. 154000. 124900. 228000.\n",
      " 125000. 438780. 160200. 271000. 113000. 103600. 119500. 275000. 250000.\n",
      " 306000. 168000. 136905. 135875. 107000. 341000. 176000. 224900. 289000.\n",
      "  79900. 274000. 109900. 175000. 166000. 151000. 264132.  79500. 241000.\n",
      " 141000. 377426. 132000. 141000. 136500. 205950. 157000.  93000. 309000.\n",
      " 187500. 178000. 125000. 232000. 135000.]\n",
      "258     231500\n",
      "267     179500\n",
      "288     122000\n",
      "649      84500\n",
      "1233    142000\n",
      "         ...  \n",
      "1017    187500\n",
      "534     178000\n",
      "1334    125000\n",
      "1369    232000\n",
      "628     135000\n",
      "Name: SalePrice, Length: 365, dtype: int64\n"
     ]
    }
   ],
   "source": [
    "val_predictions = iowa_model.predict(val_X)\n",
    "print(val_predictions)\n",
    "print(val_y)"
   ]
  },
  {
   "cell_type": "markdown",
   "id": "742eecd4-85af-44c4-a12b-ba17cf3ce6ff",
   "metadata": {},
   "source": [
    "### 4."
   ]
  },
  {
   "cell_type": "code",
   "execution_count": 15,
   "id": "83848a85-b9ed-43c4-84c8-a55ec2280866",
   "metadata": {
    "tags": []
   },
   "outputs": [
    {
     "data": {
      "text/plain": [
       "31.923287671232877"
      ]
     },
     "execution_count": 15,
     "metadata": {},
     "output_type": "execute_result"
    }
   ],
   "source": [
    "val_mae = mean_absolute_error(val_y, val_predictions)\n",
    "val_mae"
   ]
  }
 ],
 "metadata": {
  "kernelspec": {
   "display_name": "Python 3 (ipykernel)",
   "language": "python",
   "name": "python3"
  },
  "language_info": {
   "codemirror_mode": {
    "name": "ipython",
    "version": 3
   },
   "file_extension": ".py",
   "mimetype": "text/x-python",
   "name": "python",
   "nbconvert_exporter": "python",
   "pygments_lexer": "ipython3",
   "version": "3.9.18"
  }
 },
 "nbformat": 4,
 "nbformat_minor": 5
}
