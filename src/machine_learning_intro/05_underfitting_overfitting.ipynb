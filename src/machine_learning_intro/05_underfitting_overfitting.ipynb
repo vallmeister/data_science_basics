{
 "cells": [
  {
   "cell_type": "markdown",
   "id": "d6867b02-79d0-458f-8e1e-cd2d9642ec07",
   "metadata": {},
   "source": [
    "# 5. Underfitting and Overfitting"
   ]
  },
  {
   "cell_type": "markdown",
   "id": "d9f0d838-7bfd-447b-93f2-b54257e307af",
   "metadata": {},
   "source": [
    "**Overfitting**: Model matches training data almost perfectly, but performs poorly in test and new data\n",
    "\n",
    "**Underfitting**: Model doesn't capture the relation between X and Y and performs poorly on training and test data"
   ]
  },
  {
   "cell_type": "markdown",
   "id": "acbe406e-f0e7-4b43-81fd-69aafda12f01",
   "metadata": {},
   "source": [
    "## Example\n",
    "Consider a tree, where we can control the depth. High depth with many leaves causes the model to overfit. Only few splits are not precise enough to capture the relation, so the model may uderfit."
   ]
  },
  {
   "cell_type": "code",
   "execution_count": 1,
   "id": "76afccfb-a1f5-423e-ae71-bb41e9934e3e",
   "metadata": {},
   "outputs": [],
   "source": [
    "from sklearn.metrics import mean_absolute_error\n",
    "from sklearn.tree import DecisionTreeRegressor\n",
    "\n",
    "def get_mae(max_leaf_nodes, train_X, val_X, train_y, val_y):\n",
    "    model = DecisionTreeRegressor(max_leaf_nodes=max_leaf_nodes, random_state=0)\n",
    "    model.fit(train_X, train_y)\n",
    "    preds_val = model.predict(val_X)\n",
    "    mae = mean_absolute_error(val_y, preds_val)\n",
    "    return(mae)"
   ]
  },
  {
   "cell_type": "code",
   "execution_count": 2,
   "id": "4e68e8c4-fdc5-4d7d-a2d9-8ed2546ad5ce",
   "metadata": {},
   "outputs": [],
   "source": [
    "import pandas as pd\n",
    "\n",
    "melbourne_data = pd.read_csv('./resources/melb_data.csv')\n",
    "filtered_melbourne_data = melbourne_data.dropna(axis=0)\n",
    "y = filtered_melbourne_data.Price\n",
    "melbourne_features = ['Rooms', 'Bathroom', 'Landsize', 'BuildingArea', 'YearBuilt', 'Lattitude', 'Longtitude']\n",
    "X = filtered_melbourne_data[melbourne_features]\n",
    "\n",
    "from sklearn.model_selection import train_test_split\n",
    "train_X, val_X, train_y, val_y = train_test_split(X, y,random_state = 0)"
   ]
  },
  {
   "cell_type": "code",
   "execution_count": 7,
   "id": "b06c89f6-c985-4709-8e7e-1bc7c463950b",
   "metadata": {},
   "outputs": [
    {
     "name": "stdout",
     "output_type": "stream",
     "text": [
      "Max leaf nodes: 5  \t\t Mean Absolute Error:  347,380.34\n",
      "Max leaf nodes: 50  \t\t Mean Absolute Error:  258,171.21\n",
      "Max leaf nodes: 500  \t\t Mean Absolute Error:  243,495.96\n",
      "Max leaf nodes: 5,000  \t\t Mean Absolute Error:  255,575.13\n"
     ]
    }
   ],
   "source": [
    "# compare MAE with differing values of max_leaf_nodes\n",
    "for max_leaf_nodes in [5, 50, 500, 5000]:\n",
    "    my_mae = get_mae(max_leaf_nodes, train_X, val_X, train_y, val_y)\n",
    "    print(f\"Max leaf nodes: {max_leaf_nodes:,}  \\t\\t Mean Absolute Error:  {my_mae:,.2f}\")"
   ]
  },
  {
   "cell_type": "markdown",
   "id": "74081d57-0e2a-454a-b24f-1bfbe4cf13ee",
   "metadata": {},
   "source": [
    "## Exercises"
   ]
  },
  {
   "cell_type": "code",
   "execution_count": 8,
   "id": "5655cd85-de85-48ae-a831-75c7e17e3715",
   "metadata": {},
   "outputs": [
    {
     "name": "stdout",
     "output_type": "stream",
     "text": [
      "Validation MAE: 29,653\n"
     ]
    }
   ],
   "source": [
    "import pandas as pd\n",
    "from sklearn.metrics import mean_absolute_error\n",
    "from sklearn.model_selection import train_test_split\n",
    "from sklearn.tree import DecisionTreeRegressor\n",
    "\n",
    "iowa_file_path = './resources/home-data-for-ml-course/train.csv'\n",
    "\n",
    "home_data = pd.read_csv(iowa_file_path)\n",
    "y = home_data.SalePrice\n",
    "features = ['LotArea', 'YearBuilt', '1stFlrSF', '2ndFlrSF', 'FullBath', 'BedroomAbvGr', 'TotRmsAbvGrd']\n",
    "X = home_data[features]\n",
    "\n",
    "train_X, val_X, train_y, val_y = train_test_split(X, y, random_state=1)\n",
    "\n",
    "iowa_model = DecisionTreeRegressor(random_state=1)\n",
    "iowa_model.fit(train_X, train_y)\n",
    "\n",
    "val_predictions = iowa_model.predict(val_X)\n",
    "val_mae = mean_absolute_error(val_predictions, val_y)\n",
    "print(\"Validation MAE: {:,.0f}\".format(val_mae))"
   ]
  },
  {
   "cell_type": "markdown",
   "id": "62d0ce35-7aaa-4972-99f0-bcec31de167a",
   "metadata": {},
   "source": [
    "### 1. Compare Different Tree Sizes"
   ]
  },
  {
   "cell_type": "code",
   "execution_count": 9,
   "id": "4a6189b9-b555-40c0-9443-8403d469ab1f",
   "metadata": {},
   "outputs": [
    {
     "name": "stdout",
     "output_type": "stream",
     "text": [
      "100\n"
     ]
    }
   ],
   "source": [
    "candidate_max_leaf_nodes = [5, 25, 50, 100, 250, 500]\n",
    "leaf_errors = {}\n",
    "for max_leaf_nodes in candidate_max_leaf_nodes:\n",
    "    mae = get_mae(max_leaf_nodes, train_X, val_X, train_y, val_y)\n",
    "    leaf_errors[max_leaf_nodes] = mae\n",
    "best_tree_size = min(candidate_max_leaf_nodes, key=lambda x: leaf_errors[x])\n",
    "print(best_tree_size)"
   ]
  },
  {
   "cell_type": "markdown",
   "id": "f8a579e2-29ed-4651-8818-2b1cbe8565f8",
   "metadata": {},
   "source": [
    "### 2. Fit Model Using All Data"
   ]
  },
  {
   "cell_type": "code",
   "execution_count": null,
   "id": "7051d7a2-2f9b-4cf7-a052-6eeba0dc3359",
   "metadata": {},
   "outputs": [],
   "source": [
    "final_model = DecisionTreeRegressor()"
   ]
  }
 ],
 "metadata": {
  "kernelspec": {
   "display_name": "Python 3 (ipykernel)",
   "language": "python",
   "name": "python3"
  },
  "language_info": {
   "codemirror_mode": {
    "name": "ipython",
    "version": 3
   },
   "file_extension": ".py",
   "mimetype": "text/x-python",
   "name": "python",
   "nbconvert_exporter": "python",
   "pygments_lexer": "ipython3",
   "version": "3.9.18"
  }
 },
 "nbformat": 4,
 "nbformat_minor": 5
}
